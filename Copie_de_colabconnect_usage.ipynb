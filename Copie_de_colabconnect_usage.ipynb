{
  "cells": [
    {
      "cell_type": "markdown",
      "metadata": {
        "id": "view-in-github",
        "colab_type": "text"
      },
      "source": [
        "<a href=\"https://colab.research.google.com/github/franckfoti54/Free/blob/main/Copie_de_colabconnect_usage.ipynb\" target=\"_parent\"><img src=\"https://colab.research.google.com/assets/colab-badge.svg\" alt=\"Open In Colab\"/></a>"
      ]
    },
    {
      "cell_type": "markdown",
      "metadata": {
        "id": "85rFLznaGor2"
      },
      "source": [
        "# ColabConnect\n",
        "\n",
        "Make a copy of this notebook from `File > Save a Copy in Drive`"
      ]
    },
    {
      "cell_type": "code",
      "execution_count": null,
      "metadata": {
        "colab": {
          "base_uri": "https://localhost:8080/"
        },
        "id": "lIYdn1woOS1n",
        "outputId": "c56b72e0-2bf1-4b2c-b039-c6af42c34b3d"
      },
      "outputs": [
        {
          "output_type": "stream",
          "name": "stdout",
          "text": [
            "Collecting git+https://github.com/amitness/colab-connect.git\n",
            "  Cloning https://github.com/amitness/colab-connect.git to /tmp/pip-req-build-p64dgcea\n",
            "  Running command git clone --filter=blob:none --quiet https://github.com/amitness/colab-connect.git /tmp/pip-req-build-p64dgcea\n",
            "  Resolved https://github.com/amitness/colab-connect.git to commit 2cb011c5a4a04c13da0a08f8a0e018fe7bf0b09e\n",
            "  Preparing metadata (setup.py) ... \u001b[?25l\u001b[?25hdone\n",
            "Building wheels for collected packages: colabconnect\n",
            "  Building wheel for colabconnect (setup.py) ... \u001b[?25l\u001b[?25hdone\n",
            "  Created wheel for colabconnect: filename=colabconnect-0.0.8-py3-none-any.whl size=4546 sha256=6db1f7111afea5882267647d67e701eb621fda655cf00ab3ea97f42d30558333\n",
            "  Stored in directory: /tmp/pip-ephem-wheel-cache-ucu7m_a_/wheels/f5/6a/d6/b08b1226dbea3b0c022c25db8a99a9b6cad2973d7a8894c663\n",
            "Successfully built colabconnect\n",
            "Installing collected packages: colabconnect\n",
            "Successfully installed colabconnect-0.0.8\n"
          ]
        }
      ],
      "source": [
        "!pip install -U git+https://github.com/amitness/colab-connect.git"
      ]
    },
    {
      "cell_type": "markdown",
      "metadata": {
        "id": "IagqfpSHGqCw"
      },
      "source": [
        "## Create a tunnel\n",
        "- You will be asked to login on Google drive and GitHub\n",
        "- Once it's say ready, open your local VSCode Editor, open command prompt and select **Remote-Tunnels: Connect to Tunnel**\n",
        "- Choose the tunnel which says \"online\" beside it"
      ]
    },
    {
      "cell_type": "code",
      "source": [
        "from colabconnect import colabconnect\n",
        "\n",
        "colabconnect()"
      ],
      "metadata": {
        "id": "BNj85daEi-mR",
        "outputId": "fd01b300-94e2-4eab-e0aa-e6e64729386b",
        "colab": {
          "base_uri": "https://localhost:8080/",
          "height": 1000
        }
      },
      "execution_count": null,
      "outputs": [
        {
          "output_type": "stream",
          "name": "stdout",
          "text": [
            "Mounting Google Drive...\n",
            "Mounted at /content/drive\n",
            "Ran: ln -s /content/drive/MyDrive/colab/ /\n",
            "Installing python libraries...\n",
            "Ran: pip3 install --user flake8 black ipywidgets twine\n",
            "Ran: pip3 install -U ipykernel\n",
            "Ran: apt install htop -y\n",
            "Installing vscode-cli...\n",
            "Ran: curl -Lk https://code.visualstudio.com/sha/download?build=stable&os=cli-alpine-x64 --output vscode_cli.tar.gz\n",
            "Ran: tar -xf vscode_cli.tar.gz\n",
            "Starting the tunnel\n",
            "To grant access to the server, please log into https://github.com/login/device and use code 7373-260D\n",
            "Starting the tunnel\n",
            "- Ready!\n",
            "- Open VSCode on your laptop and open the command prompt\n",
            "- Select: 'Remote-Tunnels: Connect to Tunnel' to connect to colab\n",
            "Logs:\n",
            "\n",
            "[2025-03-10 23:10:29] info [tunnels::connections::relay_tunnel_host] Opened new client on channel 2\n",
            "[2025-03-10 23:10:29] info [russh::server] wrote id\n",
            "[2025-03-10 23:10:29] info [russh::server] read other id\n",
            "[2025-03-10 23:10:29] info [russh::server] session is running\n",
            "[2025-03-10 23:10:33] info [rpc.0] Checking /root/.vscode/cli/servers/Stable-6609ac3d66f4eade5cf376d1cb76f13985724bcb/log.txt and /root/.vscode/cli/servers/Stable-6609ac3d66f4eade5cf376d1cb76f13985724bcb/pid.txt for a running server...\n",
            "[2025-03-10 23:10:33] info [rpc.0] Downloading Visual Studio Code server -> /tmp/.tmpz2WXJN/vscode-server-linux-x64.tar.gz\n",
            "[2025-03-10 23:10:37] info [rpc.0] Starting server...\n",
            "[2025-03-10 23:10:37] info [rpc.0] Server started\n",
            "[2025-03-10 23:10:49] info [tunnels::connections::relay_tunnel_host] Opened new client on channel 3\n",
            "[2025-03-10 23:10:49] info [russh::server] wrote id\n",
            "[2025-03-10 23:10:49] info [russh::server] read other id\n",
            "[2025-03-10 23:10:49] info [russh::server] session is running\n",
            "[2025-03-10 23:12:48] info [rpc.2] Disposed of connection to running server.\n",
            "[2025-03-10 23:12:52] info [rpc.0] Disposed of connection to running server.\n",
            "[2025-03-10 23:13:03] info [tunnels::connections::relay_tunnel_host] Opened new client on channel 4\n",
            "[2025-03-10 23:13:03] info [russh::server] wrote id\n",
            "[2025-03-10 23:13:03] info [russh::server] read other id\n",
            "[2025-03-10 23:13:03] info [russh::server] session is running\n",
            "[2025-03-10 23:13:07] info [rpc.3] Checking /root/.vscode/cli/servers/Stable-6609ac3d66f4eade5cf376d1cb76f13985724bcb/log.txt and /root/.vscode/cli/servers/Stable-6609ac3d66f4eade5cf376d1cb76f13985724bcb/pid.txt for a running server...\n",
            "[2025-03-10 23:13:07] info [rpc.3] Found running server (pid=2538)\n",
            "[2025-03-10 23:13:19] info [tunnels::connections::relay_tunnel_host] Opened new client on channel 5\n",
            "[2025-03-10 23:13:19] info [russh::server] wrote id\n",
            "[2025-03-10 23:13:20] info [russh::server] read other id\n",
            "[2025-03-10 23:13:20] info [russh::server] session is running\n",
            "[2025-03-10 23:13:50] info [rpc.4] Disposed of connection to running server.\n",
            "[2025-03-10 23:13:54] info [rpc.3] Disposed of connection to running server.\n",
            "[2025-03-10 23:13:59] info [tunnels::connections::relay_tunnel_host] Opened new client on channel 6\n",
            "[2025-03-10 23:13:59] info [russh::server] wrote id\n",
            "[2025-03-10 23:13:59] info [russh::server] read other id\n",
            "[2025-03-10 23:13:59] info [russh::server] session is running\n",
            "[2025-03-10 23:14:03] info [rpc.5] Checking /root/.vscode/cli/servers/Stable-6609ac3d66f4eade5cf376d1cb76f13985724bcb/log.txt and /root/.vscode/cli/servers/Stable-6609ac3d66f4eade5cf376d1cb76f13985724bcb/pid.txt for a running server...\n",
            "[2025-03-10 23:14:03] info [rpc.5] Found running server (pid=2538)\n",
            "[2025-03-10 23:14:14] info [tunnels::connections::relay_tunnel_host] Opened new client on channel 7\n",
            "[2025-03-10 23:14:14] info [russh::server] wrote id\n",
            "[2025-03-10 23:14:15] info [russh::server] read other id\n",
            "[2025-03-10 23:14:15] info [russh::server] session is running\n",
            "[2025-03-10 23:20:34] info [rpc.5] Disposed of connection to running server.\n",
            "[2025-03-10 23:22:15] info [rpc.6] Disposed of connection to running server.\n"
          ]
        },
        {
          "output_type": "error",
          "ename": "KeyboardInterrupt",
          "evalue": "",
          "traceback": [
            "\u001b[0;31m---------------------------------------------------------------------------\u001b[0m",
            "\u001b[0;31mKeyboardInterrupt\u001b[0m                         Traceback (most recent call last)",
            "\u001b[0;32m<ipython-input-3-134093743d1a>\u001b[0m in \u001b[0;36m<cell line: 0>\u001b[0;34m()\u001b[0m\n\u001b[1;32m      1\u001b[0m \u001b[0;32mfrom\u001b[0m \u001b[0mcolabconnect\u001b[0m \u001b[0;32mimport\u001b[0m \u001b[0mcolabconnect\u001b[0m\u001b[0;34m\u001b[0m\u001b[0;34m\u001b[0m\u001b[0m\n\u001b[1;32m      2\u001b[0m \u001b[0;34m\u001b[0m\u001b[0m\n\u001b[0;32m----> 3\u001b[0;31m \u001b[0mcolabconnect\u001b[0m\u001b[0;34m(\u001b[0m\u001b[0;34m)\u001b[0m\u001b[0;34m\u001b[0m\u001b[0;34m\u001b[0m\u001b[0m\n\u001b[0m",
            "\u001b[0;32m/usr/local/lib/python3.11/dist-packages/colabconnect/colabconnect.py\u001b[0m in \u001b[0;36mcolabconnect\u001b[0;34m()\u001b[0m\n\u001b[1;32m     70\u001b[0m \u001b[0;34m\u001b[0m\u001b[0m\n\u001b[1;32m     71\u001b[0m     \u001b[0mprint\u001b[0m\u001b[0;34m(\u001b[0m\u001b[0;34m\"Starting the tunnel\"\u001b[0m\u001b[0;34m)\u001b[0m\u001b[0;34m\u001b[0m\u001b[0;34m\u001b[0m\u001b[0m\n\u001b[0;32m---> 72\u001b[0;31m     \u001b[0mstart_tunnel\u001b[0m\u001b[0;34m(\u001b[0m\u001b[0;34m)\u001b[0m\u001b[0;34m\u001b[0m\u001b[0;34m\u001b[0m\u001b[0m\n\u001b[0m",
            "\u001b[0;32m/usr/local/lib/python3.11/dist-packages/colabconnect/colabconnect.py\u001b[0m in \u001b[0;36mstart_tunnel\u001b[0;34m()\u001b[0m\n\u001b[1;32m     20\u001b[0m     \u001b[0mshow_outputs\u001b[0m \u001b[0;34m=\u001b[0m \u001b[0;32mFalse\u001b[0m\u001b[0;34m\u001b[0m\u001b[0;34m\u001b[0m\u001b[0m\n\u001b[1;32m     21\u001b[0m     \u001b[0;32mwhile\u001b[0m \u001b[0;32mTrue\u001b[0m\u001b[0;34m:\u001b[0m\u001b[0;34m\u001b[0m\u001b[0;34m\u001b[0m\u001b[0m\n\u001b[0;32m---> 22\u001b[0;31m         \u001b[0mline\u001b[0m \u001b[0;34m=\u001b[0m \u001b[0mp\u001b[0m\u001b[0;34m.\u001b[0m\u001b[0mstdout\u001b[0m\u001b[0;34m.\u001b[0m\u001b[0mreadline\u001b[0m\u001b[0;34m(\u001b[0m\u001b[0;34m)\u001b[0m\u001b[0;34m.\u001b[0m\u001b[0mdecode\u001b[0m\u001b[0;34m(\u001b[0m\u001b[0;34m\"utf-8\"\u001b[0m\u001b[0;34m)\u001b[0m\u001b[0;34m\u001b[0m\u001b[0;34m\u001b[0m\u001b[0m\n\u001b[0m\u001b[1;32m     23\u001b[0m         \u001b[0;32mif\u001b[0m \u001b[0mshow_outputs\u001b[0m\u001b[0;34m:\u001b[0m\u001b[0;34m\u001b[0m\u001b[0;34m\u001b[0m\u001b[0m\n\u001b[1;32m     24\u001b[0m             \u001b[0mprint\u001b[0m\u001b[0;34m(\u001b[0m\u001b[0mline\u001b[0m\u001b[0;34m.\u001b[0m\u001b[0mstrip\u001b[0m\u001b[0;34m(\u001b[0m\u001b[0;34m)\u001b[0m\u001b[0;34m)\u001b[0m\u001b[0;34m\u001b[0m\u001b[0;34m\u001b[0m\u001b[0m\n",
            "\u001b[0;31mKeyboardInterrupt\u001b[0m: "
          ]
        }
      ]
    }
  ],
  "metadata": {
    "colab": {
      "provenance": [],
      "include_colab_link": true
    },
    "kernelspec": {
      "display_name": "Python 3",
      "name": "python3"
    }
  },
  "nbformat": 4,
  "nbformat_minor": 0
}